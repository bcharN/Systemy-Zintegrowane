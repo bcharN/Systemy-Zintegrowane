{
 "cells": [
  {
   "cell_type": "code",
   "execution_count": 19,
   "metadata": {},
   "outputs": [
    {
     "ename": "ModuleNotFoundError",
     "evalue": "No module named 'GHP_algorytm'",
     "output_type": "error",
     "traceback": [
      "\u001b[1;31m---------------------------------------------------------------------------\u001b[0m",
      "\u001b[1;31mModuleNotFoundError\u001b[0m                       Traceback (most recent call last)",
      "Cell \u001b[1;32mIn[19], line 2\u001b[0m\n\u001b[0;32m      1\u001b[0m \u001b[38;5;28;01mimport\u001b[39;00m \u001b[38;5;21;01mimport_ipynb\u001b[39;00m \n\u001b[1;32m----> 2\u001b[0m \u001b[38;5;28;01mimport\u001b[39;00m \u001b[38;5;21;01mGHP_algorytm\u001b[39;00m\u001b[38;5;21;01m.\u001b[39;00m\u001b[38;5;21;01mipynb\u001b[39;00m\n",
      "\u001b[1;31mModuleNotFoundError\u001b[0m: No module named 'GHP_algorytm'"
     ]
    }
   ],
   "source": [
    "import import_ipynb \n",
    "import GHP_algorytm\n"
   ]
  },
  {
   "cell_type": "code",
   "execution_count": 18,
   "metadata": {},
   "outputs": [
    {
     "name": "stdout",
     "output_type": "stream",
     "text": [
      "Defaulting to user installation because normal site-packages is not writeable\n",
      "Requirement already satisfied: import_ipynb in c:\\users\\bartc\\appdata\\roaming\\python\\python312\\site-packages (0.1.4)\n",
      "Requirement already satisfied: IPython in c:\\users\\bartc\\appdata\\roaming\\python\\python312\\site-packages (from import_ipynb) (8.16.1)\n",
      "Requirement already satisfied: nbformat in c:\\users\\bartc\\appdata\\roaming\\python\\python312\\site-packages (from import_ipynb) (5.9.2)\n",
      "Requirement already satisfied: backcall in c:\\users\\bartc\\appdata\\roaming\\python\\python312\\site-packages (from IPython->import_ipynb) (0.2.0)\n",
      "Requirement already satisfied: decorator in c:\\users\\bartc\\appdata\\roaming\\python\\python312\\site-packages (from IPython->import_ipynb) (5.1.1)\n",
      "Requirement already satisfied: jedi>=0.16 in c:\\users\\bartc\\appdata\\roaming\\python\\python312\\site-packages (from IPython->import_ipynb) (0.19.1)\n",
      "Requirement already satisfied: matplotlib-inline in c:\\users\\bartc\\appdata\\roaming\\python\\python312\\site-packages (from IPython->import_ipynb) (0.1.6)\n",
      "Requirement already satisfied: pickleshare in c:\\users\\bartc\\appdata\\roaming\\python\\python312\\site-packages (from IPython->import_ipynb) (0.7.5)\n",
      "Requirement already satisfied: prompt-toolkit!=3.0.37,<3.1.0,>=3.0.30 in c:\\users\\bartc\\appdata\\roaming\\python\\python312\\site-packages (from IPython->import_ipynb) (3.0.39)\n",
      "Requirement already satisfied: pygments>=2.4.0 in c:\\users\\bartc\\appdata\\roaming\\python\\python312\\site-packages (from IPython->import_ipynb) (2.16.1)\n",
      "Requirement already satisfied: stack-data in c:\\users\\bartc\\appdata\\roaming\\python\\python312\\site-packages (from IPython->import_ipynb) (0.6.3)\n",
      "Requirement already satisfied: traitlets>=5 in c:\\users\\bartc\\appdata\\roaming\\python\\python312\\site-packages (from IPython->import_ipynb) (5.11.2)\n",
      "Requirement already satisfied: colorama in c:\\users\\bartc\\appdata\\roaming\\python\\python312\\site-packages (from IPython->import_ipynb) (0.4.6)\n",
      "Requirement already satisfied: fastjsonschema in c:\\users\\bartc\\appdata\\roaming\\python\\python312\\site-packages (from nbformat->import_ipynb) (2.18.1)\n",
      "Requirement already satisfied: jsonschema>=2.6 in c:\\users\\bartc\\appdata\\roaming\\python\\python312\\site-packages (from nbformat->import_ipynb) (4.17.3)\n",
      "Requirement already satisfied: jupyter-core in c:\\users\\bartc\\appdata\\roaming\\python\\python312\\site-packages (from nbformat->import_ipynb) (5.3.2)\n",
      "Requirement already satisfied: parso<0.9.0,>=0.8.3 in c:\\users\\bartc\\appdata\\roaming\\python\\python312\\site-packages (from jedi>=0.16->IPython->import_ipynb) (0.8.3)\n",
      "Requirement already satisfied: attrs>=17.4.0 in c:\\users\\bartc\\appdata\\roaming\\python\\python312\\site-packages (from jsonschema>=2.6->nbformat->import_ipynb) (23.1.0)\n",
      "Requirement already satisfied: pyrsistent!=0.17.0,!=0.17.1,!=0.17.2,>=0.14.0 in c:\\users\\bartc\\appdata\\roaming\\python\\python312\\site-packages (from jsonschema>=2.6->nbformat->import_ipynb) (0.19.3)\n",
      "Requirement already satisfied: wcwidth in c:\\users\\bartc\\appdata\\roaming\\python\\python312\\site-packages (from prompt-toolkit!=3.0.37,<3.1.0,>=3.0.30->IPython->import_ipynb) (0.2.8)\n",
      "Requirement already satisfied: platformdirs>=2.5 in c:\\users\\bartc\\appdata\\roaming\\python\\python312\\site-packages (from jupyter-core->nbformat->import_ipynb) (3.11.0)\n",
      "Requirement already satisfied: pywin32>=300 in c:\\users\\bartc\\appdata\\roaming\\python\\python312\\site-packages (from jupyter-core->nbformat->import_ipynb) (306)\n",
      "Requirement already satisfied: executing>=1.2.0 in c:\\users\\bartc\\appdata\\roaming\\python\\python312\\site-packages (from stack-data->IPython->import_ipynb) (2.0.0)\n",
      "Requirement already satisfied: asttokens>=2.1.0 in c:\\users\\bartc\\appdata\\roaming\\python\\python312\\site-packages (from stack-data->IPython->import_ipynb) (2.4.0)\n",
      "Requirement already satisfied: pure-eval in c:\\users\\bartc\\appdata\\roaming\\python\\python312\\site-packages (from stack-data->IPython->import_ipynb) (0.2.2)\n",
      "Requirement already satisfied: six>=1.12.0 in c:\\users\\bartc\\appdata\\roaming\\python\\python312\\site-packages (from asttokens>=2.1.0->stack-data->IPython->import_ipynb) (1.16.0)\n",
      "Note: you may need to restart the kernel to use updated packages.\n"
     ]
    },
    {
     "name": "stderr",
     "output_type": "stream",
     "text": [
      "\n",
      "[notice] A new release of pip is available: 23.2.1 -> 24.0\n",
      "[notice] To update, run: python.exe -m pip install --upgrade pip\n"
     ]
    }
   ],
   "source": [
    "%pip install import_ipynb\n",
    "\n",
    "\n"
   ]
  },
  {
   "cell_type": "code",
   "execution_count": 13,
   "metadata": {},
   "outputs": [
    {
     "ename": "ModuleNotFoundError",
     "evalue": "No module named 'ipynb.fs.full.GHP_algorytm.ipynb'; 'ipynb.fs.full.GHP_algorytm' is not a package",
     "output_type": "error",
     "traceback": [
      "\u001b[1;31m---------------------------------------------------------------------------\u001b[0m",
      "\u001b[1;31mModuleNotFoundError\u001b[0m                       Traceback (most recent call last)",
      "Cell \u001b[1;32mIn[13], line 1\u001b[0m\n\u001b[1;32m----> 1\u001b[0m \u001b[38;5;28;01mfrom\u001b[39;00m \u001b[38;5;21;01mipynb\u001b[39;00m\u001b[38;5;21;01m.\u001b[39;00m\u001b[38;5;21;01mfs\u001b[39;00m\u001b[38;5;21;01m.\u001b[39;00m\u001b[38;5;21;01mfull\u001b[39;00m\u001b[38;5;21;01m.\u001b[39;00m\u001b[38;5;21;01mGHP_algorytm\u001b[39;00m\u001b[38;5;21;01m.\u001b[39;00m\u001b[38;5;21;01mipynb\u001b[39;00m \u001b[38;5;28;01mimport\u001b[39;00m \u001b[38;5;241m*\u001b[39m\n",
      "\u001b[1;31mModuleNotFoundError\u001b[0m: No module named 'ipynb.fs.full.GHP_algorytm.ipynb'; 'ipynb.fs.full.GHP_algorytm' is not a package"
     ]
    }
   ],
   "source": [
    "from ipynb.fs.full.GHP_algorytm.ipynb import *\n",
    "\n"
   ]
  },
  {
   "cell_type": "code",
   "execution_count": null,
   "metadata": {},
   "outputs": [],
   "source": [
    "yn."
   ]
  },
  {
   "cell_type": "code",
   "execution_count": 17,
   "metadata": {},
   "outputs": [],
   "source": [
    "%run GHP_algorytm.ipynb"
   ]
  }
 ],
 "metadata": {
  "kernelspec": {
   "display_name": "Python 3",
   "language": "python",
   "name": "python3"
  },
  "language_info": {
   "codemirror_mode": {
    "name": "ipython",
    "version": 3
   },
   "file_extension": ".py",
   "mimetype": "text/x-python",
   "name": "python",
   "nbconvert_exporter": "python",
   "pygments_lexer": "ipython3",
   "version": "3.12.0"
  }
 },
 "nbformat": 4,
 "nbformat_minor": 2
}

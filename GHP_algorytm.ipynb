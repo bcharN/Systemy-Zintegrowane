{
 "cells": [
  {
   "cell_type": "code",
   "execution_count": 16,
   "metadata": {},
   "outputs": [],
   "source": [
    "import pandas as pd"
   ]
  },
  {
   "cell_type": "markdown",
   "metadata": {},
   "source": [
    "## GHP - podejście I"
   ]
  },
  {
   "cell_type": "markdown",
   "metadata": {},
   "source": [
    "define the dataframe:"
   ]
  },
  {
   "cell_type": "code",
   "execution_count": 17,
   "metadata": {},
   "outputs": [
    {
     "data": {
      "text/html": [
       "<div>\n",
       "<style scoped>\n",
       "    .dataframe tbody tr th:only-of-type {\n",
       "        vertical-align: middle;\n",
       "    }\n",
       "\n",
       "    .dataframe tbody tr th {\n",
       "        vertical-align: top;\n",
       "    }\n",
       "\n",
       "    .dataframe thead th {\n",
       "        text-align: right;\n",
       "    }\n",
       "</style>\n",
       "<table border=\"1\" class=\"dataframe\">\n",
       "  <thead>\n",
       "    <tr style=\"text-align: right;\">\n",
       "      <th></th>\n",
       "      <th>przewidywany popyt</th>\n",
       "      <th>produkcja</th>\n",
       "      <th>dostepne</th>\n",
       "    </tr>\n",
       "  </thead>\n",
       "  <tbody>\n",
       "    <tr>\n",
       "      <th>1</th>\n",
       "      <td>0</td>\n",
       "      <td>0</td>\n",
       "      <td>0</td>\n",
       "    </tr>\n",
       "    <tr>\n",
       "      <th>2</th>\n",
       "      <td>0</td>\n",
       "      <td>0</td>\n",
       "      <td>0</td>\n",
       "    </tr>\n",
       "    <tr>\n",
       "      <th>3</th>\n",
       "      <td>0</td>\n",
       "      <td>0</td>\n",
       "      <td>0</td>\n",
       "    </tr>\n",
       "    <tr>\n",
       "      <th>4</th>\n",
       "      <td>0</td>\n",
       "      <td>0</td>\n",
       "      <td>0</td>\n",
       "    </tr>\n",
       "    <tr>\n",
       "      <th>5</th>\n",
       "      <td>20</td>\n",
       "      <td>0</td>\n",
       "      <td>0</td>\n",
       "    </tr>\n",
       "    <tr>\n",
       "      <th>6</th>\n",
       "      <td>0</td>\n",
       "      <td>0</td>\n",
       "      <td>0</td>\n",
       "    </tr>\n",
       "    <tr>\n",
       "      <th>7</th>\n",
       "      <td>40</td>\n",
       "      <td>0</td>\n",
       "      <td>0</td>\n",
       "    </tr>\n",
       "    <tr>\n",
       "      <th>8</th>\n",
       "      <td>0</td>\n",
       "      <td>0</td>\n",
       "      <td>0</td>\n",
       "    </tr>\n",
       "    <tr>\n",
       "      <th>9</th>\n",
       "      <td>0</td>\n",
       "      <td>0</td>\n",
       "      <td>0</td>\n",
       "    </tr>\n",
       "    <tr>\n",
       "      <th>10</th>\n",
       "      <td>0</td>\n",
       "      <td>0</td>\n",
       "      <td>0</td>\n",
       "    </tr>\n",
       "  </tbody>\n",
       "</table>\n",
       "</div>"
      ],
      "text/plain": [
       "    przewidywany popyt  produkcja  dostepne\n",
       "1                    0          0         0\n",
       "2                    0          0         0\n",
       "3                    0          0         0\n",
       "4                    0          0         0\n",
       "5                   20          0         0\n",
       "6                    0          0         0\n",
       "7                   40          0         0\n",
       "8                    0          0         0\n",
       "9                    0          0         0\n",
       "10                   0          0         0"
      ]
     },
     "execution_count": 17,
     "metadata": {},
     "output_type": "execute_result"
    }
   ],
   "source": [
    "ilosc_tygod = 10\n",
    "\n",
    "labels = ['przewidywany popyt','produkcja','dostepne']\n",
    "\n",
    "przew_popyt = labels[0]\n",
    "prod = labels[1]\n",
    "dost = labels[2]\n",
    "\n",
    "empt = [0 for x in range(ilosc_tygod)]\n",
    "\n",
    "zad1 = {\n",
    "    przew_popyt:[5,5,5, 5,5,5, 15,15,15, 15],\n",
    "    prod:empt,\n",
    "    dost:empt\n",
    "}\n",
    "zad2 = {\n",
    "    przew_popyt:[0,0,0,0,20,0,40,0,0,0],\n",
    "    prod:empt,\n",
    "    dost:empt\n",
    "}\n",
    "\n",
    "ghp = pd.DataFrame(data=zad2, columns=labels, index=[x for x in range(1,ilosc_tygod+1)], dtype=\"int64\")\n",
    "ghp"
   ]
  },
  {
   "cell_type": "markdown",
   "metadata": {},
   "source": [
    "define initial state: (na stanie, produkcja) "
   ]
  },
  {
   "cell_type": "code",
   "execution_count": 18,
   "metadata": {},
   "outputs": [],
   "source": [
    "na_stanie = 2\n",
    "produkcja = 30\n"
   ]
  },
  {
   "cell_type": "markdown",
   "metadata": {},
   "source": [
    "calculate GHP:"
   ]
  },
  {
   "cell_type": "code",
   "execution_count": 19,
   "metadata": {},
   "outputs": [],
   "source": [
    "\n",
    "for i in range(1, ilosc_tygod+1):\n",
    "    if i == 1: \n",
    "        dostepne_bez_produkcji = na_stanie - ghp.loc[i,przew_popyt]\n",
    "    else: \n",
    "        dostepne_bez_produkcji = ghp.loc[i-1,dost] - ghp.loc[i,przew_popyt]\n",
    "    \n",
    "    if dostepne_bez_produkcji <= 0: \n",
    "        ghp.loc[i,dost] = dostepne_bez_produkcji + produkcja\n",
    "        ghp.loc[i,prod] = produkcja\n",
    "    else:\n",
    "        ghp.loc[i,dost] = dostepne_bez_produkcji \n",
    "        "
   ]
  },
  {
   "cell_type": "code",
   "execution_count": 20,
   "metadata": {},
   "outputs": [
    {
     "data": {
      "text/html": [
       "<div>\n",
       "<style scoped>\n",
       "    .dataframe tbody tr th:only-of-type {\n",
       "        vertical-align: middle;\n",
       "    }\n",
       "\n",
       "    .dataframe tbody tr th {\n",
       "        vertical-align: top;\n",
       "    }\n",
       "\n",
       "    .dataframe thead th {\n",
       "        text-align: right;\n",
       "    }\n",
       "</style>\n",
       "<table border=\"1\" class=\"dataframe\">\n",
       "  <thead>\n",
       "    <tr style=\"text-align: right;\">\n",
       "      <th></th>\n",
       "      <th>1</th>\n",
       "      <th>2</th>\n",
       "      <th>3</th>\n",
       "      <th>4</th>\n",
       "      <th>5</th>\n",
       "      <th>6</th>\n",
       "      <th>7</th>\n",
       "      <th>8</th>\n",
       "      <th>9</th>\n",
       "      <th>10</th>\n",
       "    </tr>\n",
       "  </thead>\n",
       "  <tbody>\n",
       "    <tr>\n",
       "      <th>przewidywany popyt</th>\n",
       "      <td>0</td>\n",
       "      <td>0</td>\n",
       "      <td>0</td>\n",
       "      <td>0</td>\n",
       "      <td>20</td>\n",
       "      <td>0</td>\n",
       "      <td>40</td>\n",
       "      <td>0</td>\n",
       "      <td>0</td>\n",
       "      <td>0</td>\n",
       "    </tr>\n",
       "    <tr>\n",
       "      <th>produkcja</th>\n",
       "      <td>0</td>\n",
       "      <td>0</td>\n",
       "      <td>0</td>\n",
       "      <td>0</td>\n",
       "      <td>30</td>\n",
       "      <td>0</td>\n",
       "      <td>30</td>\n",
       "      <td>0</td>\n",
       "      <td>0</td>\n",
       "      <td>0</td>\n",
       "    </tr>\n",
       "    <tr>\n",
       "      <th>dostepne</th>\n",
       "      <td>2</td>\n",
       "      <td>2</td>\n",
       "      <td>2</td>\n",
       "      <td>2</td>\n",
       "      <td>12</td>\n",
       "      <td>12</td>\n",
       "      <td>2</td>\n",
       "      <td>2</td>\n",
       "      <td>2</td>\n",
       "      <td>2</td>\n",
       "    </tr>\n",
       "  </tbody>\n",
       "</table>\n",
       "</div>"
      ],
      "text/plain": [
       "                    1   2   3   4   5   6   7   8   9   10\n",
       "przewidywany popyt   0   0   0   0  20   0  40   0   0   0\n",
       "produkcja            0   0   0   0  30   0  30   0   0   0\n",
       "dostepne             2   2   2   2  12  12   2   2   2   2"
      ]
     },
     "execution_count": 20,
     "metadata": {},
     "output_type": "execute_result"
    }
   ],
   "source": [
    "ghp.transpose()"
   ]
  },
  {
   "cell_type": "markdown",
   "metadata": {},
   "source": [
    "## GHP - podejście II"
   ]
  },
  {
   "cell_type": "code",
   "execution_count": 21,
   "metadata": {},
   "outputs": [],
   "source": [
    "# demand_input = input(\"Podaj tygodnie i odpowiadające im popyty (np. '5:12,7:8'): \")\n",
    "demand_input = '5:20,7:40'\n",
    "# production_input = input(\"Podaj tygodnie i odpowiadające im sztuki do wyprodukowania (np. '5:12,7:8'): \")\n",
    "production_input = '5:18,7:40'\n",
    "# available_input = input(\"Podaj obecnie dostępne sztuki towaru: \")\n",
    "available_input = '2'"
   ]
  },
  {
   "cell_type": "code",
   "execution_count": 22,
   "metadata": {},
   "outputs": [],
   "source": [
    "def calculate_production(production_input):\n",
    "    production = [0 for x in range(10)]\n",
    "    for pair in production_input.split(\",\"):\n",
    "        week, amount = pair.split(\":\")\n",
    "        week = int(week.strip())\n",
    "        amount = int(amount.strip())\n",
    "        production[week-1] = amount\n",
    "    return production"
   ]
  },
  {
   "cell_type": "code",
   "execution_count": 23,
   "metadata": {},
   "outputs": [],
   "source": [
    "def calculate_demand(demand_input):\n",
    "    demand = [0 for x in range(10)]\n",
    "    for pair in demand_input.split(\",\"):\n",
    "        week, amount = pair.split(\":\")\n",
    "        week = int(week.strip())\n",
    "        amount = int(amount.strip())\n",
    "        demand[week-1] = amount\n",
    "    return demand"
   ]
  },
  {
   "cell_type": "code",
   "execution_count": 24,
   "metadata": {},
   "outputs": [],
   "source": [
    "def calculate_available(available_input):\n",
    "    available = [0 for x in range(10)]\n",
    "    demand = calculate_demand(demand_input)\n",
    "    production = calculate_production(production_input)\n",
    "    available[0] = available_input\n",
    "    for i in range(len(demand)):\n",
    "        if demand[i] == 0: \n",
    "            available[i] = int(available_input)\n",
    "        else:\n",
    "            break\n",
    "    for i in range(1, len(available)):\n",
    "        if demand[i] != 0:\n",
    "            available[i] = production[i] - demand[i] + available[i-1]\n",
    "        else:\n",
    "            try:\n",
    "                available[i] = available[i-1]\n",
    "            except:\n",
    "                pass\n",
    "    return available\n",
    "        "
   ]
  },
  {
   "cell_type": "code",
   "execution_count": 25,
   "metadata": {},
   "outputs": [],
   "source": [
    "import pandas as pd"
   ]
  },
  {
   "cell_type": "code",
   "execution_count": 26,
   "metadata": {},
   "outputs": [],
   "source": [
    "ghp = {\n",
    "    'tydzień' : [1,2,3,4,5,6,7,8,9,10],\n",
    "    'przewidywany popyt' : calculate_demand(demand_input),\n",
    "    'produkcja' : calculate_production(production_input),\n",
    "    'dostepne' : calculate_available(available_input)\n",
    "}"
   ]
  },
  {
   "cell_type": "code",
   "execution_count": 27,
   "metadata": {},
   "outputs": [
    {
     "data": {
      "text/html": [
       "<div>\n",
       "<style scoped>\n",
       "    .dataframe tbody tr th:only-of-type {\n",
       "        vertical-align: middle;\n",
       "    }\n",
       "\n",
       "    .dataframe tbody tr th {\n",
       "        vertical-align: top;\n",
       "    }\n",
       "\n",
       "    .dataframe thead th {\n",
       "        text-align: right;\n",
       "    }\n",
       "</style>\n",
       "<table border=\"1\" class=\"dataframe\">\n",
       "  <thead>\n",
       "    <tr style=\"text-align: right;\">\n",
       "      <th></th>\n",
       "      <th>0</th>\n",
       "      <th>1</th>\n",
       "      <th>2</th>\n",
       "      <th>3</th>\n",
       "      <th>4</th>\n",
       "      <th>5</th>\n",
       "      <th>6</th>\n",
       "      <th>7</th>\n",
       "      <th>8</th>\n",
       "      <th>9</th>\n",
       "    </tr>\n",
       "  </thead>\n",
       "  <tbody>\n",
       "    <tr>\n",
       "      <th>tydzień</th>\n",
       "      <td>1</td>\n",
       "      <td>2</td>\n",
       "      <td>3</td>\n",
       "      <td>4</td>\n",
       "      <td>5</td>\n",
       "      <td>6</td>\n",
       "      <td>7</td>\n",
       "      <td>8</td>\n",
       "      <td>9</td>\n",
       "      <td>10</td>\n",
       "    </tr>\n",
       "    <tr>\n",
       "      <th>przewidywany popyt</th>\n",
       "      <td>0</td>\n",
       "      <td>0</td>\n",
       "      <td>0</td>\n",
       "      <td>0</td>\n",
       "      <td>20</td>\n",
       "      <td>0</td>\n",
       "      <td>40</td>\n",
       "      <td>0</td>\n",
       "      <td>0</td>\n",
       "      <td>0</td>\n",
       "    </tr>\n",
       "    <tr>\n",
       "      <th>produkcja</th>\n",
       "      <td>0</td>\n",
       "      <td>0</td>\n",
       "      <td>0</td>\n",
       "      <td>0</td>\n",
       "      <td>18</td>\n",
       "      <td>0</td>\n",
       "      <td>40</td>\n",
       "      <td>0</td>\n",
       "      <td>0</td>\n",
       "      <td>0</td>\n",
       "    </tr>\n",
       "    <tr>\n",
       "      <th>dostepne</th>\n",
       "      <td>2</td>\n",
       "      <td>2</td>\n",
       "      <td>2</td>\n",
       "      <td>2</td>\n",
       "      <td>0</td>\n",
       "      <td>0</td>\n",
       "      <td>0</td>\n",
       "      <td>0</td>\n",
       "      <td>0</td>\n",
       "      <td>0</td>\n",
       "    </tr>\n",
       "  </tbody>\n",
       "</table>\n",
       "</div>"
      ],
      "text/plain": [
       "                    0  1  2  3   4  5   6  7  8   9\n",
       "tydzień             1  2  3  4   5  6   7  8  9  10\n",
       "przewidywany popyt  0  0  0  0  20  0  40  0  0   0\n",
       "produkcja           0  0  0  0  18  0  40  0  0   0\n",
       "dostepne            2  2  2  2   0  0   0  0  0   0"
      ]
     },
     "execution_count": 27,
     "metadata": {},
     "output_type": "execute_result"
    }
   ],
   "source": [
    "df = pd.DataFrame(ghp).transpose()\n",
    "df"
   ]
  }
 ],
 "metadata": {
  "kernelspec": {
   "display_name": "Python 3",
   "language": "python",
   "name": "python3"
  },
  "language_info": {
   "codemirror_mode": {
    "name": "ipython",
    "version": 3
   },
   "file_extension": ".py",
   "mimetype": "text/x-python",
   "name": "python",
   "nbconvert_exporter": "python",
   "pygments_lexer": "ipython3",
   "version": "3.12.0"
  }
 },
 "nbformat": 4,
 "nbformat_minor": 2
}
